{
  "nbformat": 4,
  "nbformat_minor": 0,
  "metadata": {
    "colab": {
      "name": "Assignment_1.ipynb",
      "provenance": []
    },
    "kernelspec": {
      "name": "python3",
      "display_name": "Python 3"
    }
  },
  "cells": [
    {
      "cell_type": "markdown",
      "metadata": {
        "id": "jjZG7BNlbWtO",
        "colab_type": "text"
      },
      "source": [
        "![](https://i.imgur.com/0AUxkXt.png)"
      ]
    },
    {
      "cell_type": "markdown",
      "metadata": {
        "id": "jbpQzyjqbflM",
        "colab_type": "text"
      },
      "source": [
        "# Assignment 1 - The Hacker Rank\n",
        "\n",
        "HackerRank is a place where programmers from all over the world come together to solve problems in a wide range of Computer Science domains.\n",
        "\n",
        "As you solve more challenges, you earn points and move up the HackerRank Leaderboard.\n",
        "\n",
        "Looking for a job at an awesome company? You can get hired by solving [challenges](https://www.hackerrank.com/jobs/search)!\n",
        "\n",
        "It's cool. Let's establish your knowledge and fight for glory!\n",
        "\n",
        "But before that let's make it clear that.."
      ]
    },
    {
      "cell_type": "markdown",
      "metadata": {
        "id": "-ndmD4naciAN",
        "colab_type": "text"
      },
      "source": [
        "## Note-taking is IMPORTANT\n",
        "\n",
        "Blog: [Why is note-taking important](https://nickblackbourn.com/blog/why-is-note-taking-important/)\n",
        "\n",
        "Note taking isn’t just important for college students, it’s a valuable life skill.\n",
        "\n",
        "Effective note taking helps you to remember information and aids your understanding of that information. \n",
        "\n",
        "**Notes boost your understanding**\n",
        "\n",
        "By making notes, you force yourself to construct a conceptual mental representation of the ideas you are grappling with. It is this process that helps you comprehend the subject matter you are working with.\n",
        "\n",
        "**Notes are a repository of your thinking**\n",
        "\n",
        "When you need to recall something that you came across a while ago, you can go over the main ideas by looking over your notes. This is why good, comprehensive notes are so useful; they are a catalogue of the best ideas you’ve encountered, and what you thought about them.\n",
        "\n",
        "etc.\n",
        "\n",
        "\n",
        "\n",
        "\n",
        "\n",
        "\n",
        "\n"
      ]
    },
    {
      "cell_type": "markdown",
      "metadata": {
        "id": "IGvKPsdVfX-F",
        "colab_type": "text"
      },
      "source": [
        "## Requirements\n",
        "\n",
        "Pick 10 challenges on HackerRank about SQL and 5 about Python in **easy** level:\n",
        "\n",
        "[HackerRank - Domain SQL](https://www.hackerrank.com/domains/sql?filters%5Bdifficulty%5D%5B%5D=easy&filters%5Bsubdomains%5D%5B%5D=select)\n",
        "\n",
        "[HackerRank - Domain Python](https://www.hackerrank.com/domains/python?filters%5Bdifficulty%5D%5B%5D=easy)\n",
        "\n",
        "For each challenge:\n",
        "\n",
        "* Create a markdown cell first that describes the challenge.\n",
        "* Solve the challenge on HackerRank and copy your solution to a code cell below\n",
        "* (Optional) A short description about how you came up with the solution would be awesome."
      ]
    },
    {
      "cell_type": "markdown",
      "metadata": {
        "id": "higGK1Y5iAea",
        "colab_type": "text"
      },
      "source": [
        "## Example"
      ]
    },
    {
      "cell_type": "markdown",
      "metadata": {
        "id": "D2yU2FYDi4tj",
        "colab_type": "text"
      },
      "source": [
        "### SQL"
      ]
    },
    {
      "cell_type": "markdown",
      "metadata": {
        "id": "gu4DDH7Ki77C",
        "colab_type": "text"
      },
      "source": [
        "\n",
        "#### Problem 1\n",
        "\n",
        "Query all columns for all American cities in **CITY** with populations larger than 100000. The CountryCode for America is USA.\n",
        "\n",
        "**Input Format**\n",
        "\n",
        "The **CITY** table is described as follows:\n",
        "\n",
        "| Field | Type |\n",
        "|:----:|:---:|\n",
        "| ID | NUMBER |\n",
        "| NAME | VARCHAR2(17) |\n",
        "| COUNTRYCODE | VARCHAR2(3) |\n",
        "| DISTRICT | VARCHAR2(20) |\n",
        "| POPULATION | NUMBER |"
      ]
    },
    {
      "cell_type": "code",
      "metadata": {
        "id": "hhAwMjyhbT1b",
        "colab_type": "code",
        "colab": {}
      },
      "source": [
        "# Solution\n",
        "# SELECT * from city WHERE population>100000 AND countrycode='USA';"
      ],
      "execution_count": 0,
      "outputs": []
    },
    {
      "cell_type": "markdown",
      "metadata": {
        "id": "0AxyfiJijJ7T",
        "colab_type": "text"
      },
      "source": [
        "### Python"
      ]
    },
    {
      "cell_type": "markdown",
      "metadata": {
        "id": "PEW8LsB5jLqf",
        "colab_type": "text"
      },
      "source": [
        "#### Problem 1\n",
        "\n",
        "**Task** \n",
        "Given an integer, , perform the following conditional actions:\n",
        "\n",
        "* If `n` is odd, print *Weird*\n",
        "* If `n` is even and in the inclusive range of 2 to 5, print *Not Weird*\n",
        "* If `n` is even and in the inclusive range of 6 to 20, print *Weird*\n",
        "* If `n` is even and greater than 20, print *Not Weird*\n",
        "\n",
        "**Input Format**\n",
        "\n",
        "A single line containing a positive integer, .\n",
        "\n",
        "**Output Format**\n",
        "\n",
        "Print Weird if the number is weird; otherwise, print Not Weird."
      ]
    },
    {
      "cell_type": "code",
      "metadata": {
        "id": "JBOxgw0zjLC2",
        "colab_type": "code",
        "colab": {}
      },
      "source": [
        "n = int(input())\n",
        "\n",
        "if n % 2 == 1:\n",
        "    print('Weird')\n",
        "else:\n",
        "    if (n >= 2) and (n <= 5):\n",
        "        print('Not Weird')\n",
        "    elif (n >= 6) and (n <= 20):\n",
        "        print('Weird')\n",
        "    else:\n",
        "        print('Not Weird')"
      ],
      "execution_count": 0,
      "outputs": []
    },
    {
      "cell_type": "markdown",
      "metadata": {
        "id": "a-Q3VE7YkA9A",
        "colab_type": "text"
      },
      "source": [
        "## Your turn\n",
        "\n",
        "Good luck and have fun!"
      ]
    },
    {
      "cell_type": "markdown",
      "metadata": {
        "id": "rH7si7kUYSiN",
        "colab_type": "text"
      },
      "source": [
        "### SQL\n"
      ]
    },
    {
      "cell_type": "markdown",
      "metadata": {
        "id": "VaRXqD2ZYW8u",
        "colab_type": "text"
      },
      "source": [
        "#### Problem 1. Revising the Select Query I\n",
        "\n",
        "Query all columns for all American cities in CITY with populations larger than 100000. The CountryCode for America is USA.\n",
        "\n",
        "**Input Format**\n",
        "\n",
        "The **CITY** table is described as follows:\n",
        "\n",
        "| Field | Type |\n",
        "|:----:|:---:|\n",
        "| ID | NUMBER |\n",
        "| NAME | VARCHAR2(17) |\n",
        "| COUNTRYCODE | VARCHAR2(3) |\n",
        "| DISTRICT | VARCHAR2(20) |\n",
        "| POPULATION | NUMBER |"
      ]
    },
    {
      "cell_type": "code",
      "metadata": {
        "id": "avUOOrTzZUtL",
        "colab_type": "code",
        "colab": {}
      },
      "source": [
        "# Solution\n",
        "# SELECT * FROM city WHERE countrycode = 'USA' AND population > 100000"
      ],
      "execution_count": 0,
      "outputs": []
    },
    {
      "cell_type": "markdown",
      "metadata": {
        "colab_type": "text",
        "id": "NMDwynJtZhbf"
      },
      "source": [
        "#### Problem 2. Revising the Select Query II\n",
        "\n",
        "Query the names of all American cities in CITY with populations larger than 120000. The CountryCode for America is USA.\n",
        "\n",
        "**Input Format**\n",
        "\n",
        "The **CITY** table is described as follows:\n",
        "\n",
        "| Field | Type |\n",
        "|:----:|:---:|\n",
        "| ID | NUMBER |\n",
        "| NAME | VARCHAR2(17) |\n",
        "| COUNTRYCODE | VARCHAR2(3) |\n",
        "| DISTRICT | VARCHAR2(20) |\n",
        "| POPULATION | NUMBER |"
      ]
    },
    {
      "cell_type": "code",
      "metadata": {
        "colab_type": "code",
        "id": "XD2mOt9RZw1T",
        "colab": {}
      },
      "source": [
        "# Solution\n",
        "# SELECT name FROM city WHERE countrycode = 'USA' AND population > 120000;"
      ],
      "execution_count": 0,
      "outputs": []
    },
    {
      "cell_type": "markdown",
      "metadata": {
        "colab_type": "text",
        "id": "1isBDiFCaUie"
      },
      "source": [
        "#### Problem 3. Weather Observation Station 10\n",
        "\n",
        "Query the list of CITY names from STATION that do not end with vowels. Your result cannot contain duplicates.\n",
        "\n",
        "**Input Format**\n",
        "\n",
        "The **STATION** table is described as follows:\n",
        "\n",
        "| Field | Type |\n",
        "|:----:|:---:|\n",
        "| ID | NUMBER |\n",
        "| CITY | VARCHAR2(21) |\n",
        "| STATE | VARCHAR2(2) |\n",
        "| LAT_N | NUMBER |\n",
        "| LONG_W | NUMBER |"
      ]
    },
    {
      "cell_type": "code",
      "metadata": {
        "colab_type": "code",
        "id": "ab5KAKRPaxJn",
        "colab": {}
      },
      "source": [
        "# Solution\n",
        "# SELECT DISTINCT city FROM station WHERE LOWER(RIGHT(city,1)) NOT IN ('a','e','i','o','u');"
      ],
      "execution_count": 0,
      "outputs": []
    },
    {
      "cell_type": "markdown",
      "metadata": {
        "colab_type": "text",
        "id": "eKtPxBMJbg2E"
      },
      "source": [
        "#### Problem 4. Employee Salaries\n",
        "\n",
        "Write a query that prints a list of employee names (i.e.: the name attribute) for employees in ***Employee*** having a salary greater than ***$2000*** per month who have been employees for less than ***10*** months. Sort your result by ascending employee_id.\n",
        "\n",
        "\n",
        "**Input Format**\n",
        "\n",
        "The **Employee** table containing employee data for a company is described as follows:\n",
        "\n",
        "| Column | Type |\n",
        "|:----:|:---:|\n",
        "| employee_id | Integer |\n",
        "| name | String |\n",
        "| months | Integer |\n",
        "| salary | Integer |"
      ]
    },
    {
      "cell_type": "code",
      "metadata": {
        "colab_type": "code",
        "id": "aquf1cmecWoT",
        "colab": {}
      },
      "source": [
        "# Solution\n",
        "# SELECT name FROM employee WHERE months < 10 AND salary > 2000 ORDER BY employee_id ASC;"
      ],
      "execution_count": 0,
      "outputs": []
    },
    {
      "cell_type": "markdown",
      "metadata": {
        "colab_type": "text",
        "id": "lVdLZ5xCchdI"
      },
      "source": [
        "#### Problem 5. Japanese Cities' Attributes\n",
        "\n",
        "\n",
        "Query all attributes of every Japanese city in the **CITY** table. The COUNTRYCODE for Japan is JPN.\n",
        "\n",
        "\n",
        "**Input Format**\n",
        "\n",
        "The **CITY** table is described as follows:\n",
        "\n",
        "| Field | Type |\n",
        "|:----:|:---:|\n",
        "| ID | NUMBER |\n",
        "| NAME | VARCHAR2(17) |\n",
        "| COUNTRYCODE | VARCHAR2(3) |\n",
        "| DISTRICT | VARCHAR2(20) |\n",
        "| POPULATION | NUMBER |\n",
        "\n"
      ]
    },
    {
      "cell_type": "code",
      "metadata": {
        "colab_type": "code",
        "id": "bBmsKDjfdK58",
        "colab": {}
      },
      "source": [
        "# Solution\n",
        "# SELECT * FROM city WHERE countrycode = 'JPN';"
      ],
      "execution_count": 0,
      "outputs": []
    },
    {
      "cell_type": "markdown",
      "metadata": {
        "id": "kQwx0h9mYpph",
        "colab_type": "text"
      },
      "source": [
        "### Python"
      ]
    },
    {
      "cell_type": "markdown",
      "metadata": {
        "colab_type": "text",
        "id": "Tgmc46mjee6p"
      },
      "source": [
        "#### Problem 1. List Comprehensions\n",
        "\n",
        "Let's learn about list comprehensions! You are given three integers **X, Y** and **Z**  representing the dimensions of a cuboid along with an integer **N**. You have to print a list of all possible coordinates given by **(i, j, k)** on a 3D grid where the sum of **i + j + k** is not equal to N. Here **0 <= i <= X, 0 <= j <= Y, 0 <= k <= Z**\n",
        "\n",
        "**Input Format**\n",
        "\n",
        "Four integers **X, Y, Z** and **Z** each on four separate lines, respectively.\n",
        "\n",
        "**Constraints**\n",
        "\n",
        "Print the list in lexicographic increasing order.\n",
        "\n",
        "**Sample Input 0**\n",
        "\n",
        "1\n",
        "\n",
        "1\n",
        "\n",
        "2\n",
        "\n",
        "2\n",
        "\n",
        "**Sample Output 0**\n",
        "\n",
        "[[0, 0, 0], [0, 0, 1], [0, 1, 0], [1, 0, 0], [1, 1, 1]]"
      ]
    },
    {
      "cell_type": "code",
      "metadata": {
        "id": "hEl-NthgenYm",
        "colab_type": "code",
        "colab": {
          "base_uri": "https://localhost:8080/",
          "height": 121
        },
        "outputId": "812a02c6-0ae0-41c5-e9c8-75f7f7f4409c"
      },
      "source": [
        "if __name__ == '__main__':\n",
        "    x = int(input())\n",
        "    y = int(input())\n",
        "    z = int(input())\n",
        "    n = int(input())\n",
        "\n",
        "lst = [[X, Y, Z] for X in range(x + 1) for Y in range(y + 1) for Z in range(z + 1) if X + Y + Z != n]\n",
        "print(lst)\n"
      ],
      "execution_count": 1,
      "outputs": [
        {
          "output_type": "stream",
          "text": [
            "4\n",
            "5\n",
            "7\n",
            "4\n",
            "[[0, 0, 0], [0, 0, 1], [0, 0, 2], [0, 0, 3], [0, 0, 5], [0, 0, 6], [0, 0, 7], [0, 1, 0], [0, 1, 1], [0, 1, 2], [0, 1, 4], [0, 1, 5], [0, 1, 6], [0, 1, 7], [0, 2, 0], [0, 2, 1], [0, 2, 3], [0, 2, 4], [0, 2, 5], [0, 2, 6], [0, 2, 7], [0, 3, 0], [0, 3, 2], [0, 3, 3], [0, 3, 4], [0, 3, 5], [0, 3, 6], [0, 3, 7], [0, 4, 1], [0, 4, 2], [0, 4, 3], [0, 4, 4], [0, 4, 5], [0, 4, 6], [0, 4, 7], [0, 5, 0], [0, 5, 1], [0, 5, 2], [0, 5, 3], [0, 5, 4], [0, 5, 5], [0, 5, 6], [0, 5, 7], [1, 0, 0], [1, 0, 1], [1, 0, 2], [1, 0, 4], [1, 0, 5], [1, 0, 6], [1, 0, 7], [1, 1, 0], [1, 1, 1], [1, 1, 3], [1, 1, 4], [1, 1, 5], [1, 1, 6], [1, 1, 7], [1, 2, 0], [1, 2, 2], [1, 2, 3], [1, 2, 4], [1, 2, 5], [1, 2, 6], [1, 2, 7], [1, 3, 1], [1, 3, 2], [1, 3, 3], [1, 3, 4], [1, 3, 5], [1, 3, 6], [1, 3, 7], [1, 4, 0], [1, 4, 1], [1, 4, 2], [1, 4, 3], [1, 4, 4], [1, 4, 5], [1, 4, 6], [1, 4, 7], [1, 5, 0], [1, 5, 1], [1, 5, 2], [1, 5, 3], [1, 5, 4], [1, 5, 5], [1, 5, 6], [1, 5, 7], [2, 0, 0], [2, 0, 1], [2, 0, 3], [2, 0, 4], [2, 0, 5], [2, 0, 6], [2, 0, 7], [2, 1, 0], [2, 1, 2], [2, 1, 3], [2, 1, 4], [2, 1, 5], [2, 1, 6], [2, 1, 7], [2, 2, 1], [2, 2, 2], [2, 2, 3], [2, 2, 4], [2, 2, 5], [2, 2, 6], [2, 2, 7], [2, 3, 0], [2, 3, 1], [2, 3, 2], [2, 3, 3], [2, 3, 4], [2, 3, 5], [2, 3, 6], [2, 3, 7], [2, 4, 0], [2, 4, 1], [2, 4, 2], [2, 4, 3], [2, 4, 4], [2, 4, 5], [2, 4, 6], [2, 4, 7], [2, 5, 0], [2, 5, 1], [2, 5, 2], [2, 5, 3], [2, 5, 4], [2, 5, 5], [2, 5, 6], [2, 5, 7], [3, 0, 0], [3, 0, 2], [3, 0, 3], [3, 0, 4], [3, 0, 5], [3, 0, 6], [3, 0, 7], [3, 1, 1], [3, 1, 2], [3, 1, 3], [3, 1, 4], [3, 1, 5], [3, 1, 6], [3, 1, 7], [3, 2, 0], [3, 2, 1], [3, 2, 2], [3, 2, 3], [3, 2, 4], [3, 2, 5], [3, 2, 6], [3, 2, 7], [3, 3, 0], [3, 3, 1], [3, 3, 2], [3, 3, 3], [3, 3, 4], [3, 3, 5], [3, 3, 6], [3, 3, 7], [3, 4, 0], [3, 4, 1], [3, 4, 2], [3, 4, 3], [3, 4, 4], [3, 4, 5], [3, 4, 6], [3, 4, 7], [3, 5, 0], [3, 5, 1], [3, 5, 2], [3, 5, 3], [3, 5, 4], [3, 5, 5], [3, 5, 6], [3, 5, 7], [4, 0, 1], [4, 0, 2], [4, 0, 3], [4, 0, 4], [4, 0, 5], [4, 0, 6], [4, 0, 7], [4, 1, 0], [4, 1, 1], [4, 1, 2], [4, 1, 3], [4, 1, 4], [4, 1, 5], [4, 1, 6], [4, 1, 7], [4, 2, 0], [4, 2, 1], [4, 2, 2], [4, 2, 3], [4, 2, 4], [4, 2, 5], [4, 2, 6], [4, 2, 7], [4, 3, 0], [4, 3, 1], [4, 3, 2], [4, 3, 3], [4, 3, 4], [4, 3, 5], [4, 3, 6], [4, 3, 7], [4, 4, 0], [4, 4, 1], [4, 4, 2], [4, 4, 3], [4, 4, 4], [4, 4, 5], [4, 4, 6], [4, 4, 7], [4, 5, 0], [4, 5, 1], [4, 5, 2], [4, 5, 3], [4, 5, 4], [4, 5, 5], [4, 5, 6], [4, 5, 7]]\n"
          ],
          "name": "stdout"
        }
      ]
    },
    {
      "cell_type": "markdown",
      "metadata": {
        "colab_type": "text",
        "id": "FUsRYHkxwSyD"
      },
      "source": [
        "#### Problem 2. Division\n",
        "\n",
        "**Task**\n",
        "\n",
        "Read two integers and print two lines. The first line should contain integer division, **a // b**. The second line should contain float division, **a / b**.\n",
        "\n",
        "You don't need to perform any rounding or formatting operations.\n",
        "\n",
        "**Input Format**\n",
        "\n",
        "The first line contains the first integer, **a**. The second line contains the second integer, **b**.\n",
        "\n",
        "**Output Format**\n",
        "\n",
        "Print the two lines as described above.\n",
        "\n",
        "**Sample Input 0**\n",
        "\n",
        "4\n",
        "\n",
        "3\n",
        "\n",
        "\n",
        "**Sample Output 0**\n",
        "\n",
        "1\n",
        "\n",
        "1.33333333333"
      ]
    },
    {
      "cell_type": "code",
      "metadata": {
        "colab_type": "code",
        "id": "y1LEOfMTxGo8",
        "colab": {}
      },
      "source": [
        "if __name__ == '__main__':\n",
        "    a = int(input())\n",
        "    b = int(input())\n",
        "\n",
        "print(a // b)\n",
        "print(a / b)\n"
      ],
      "execution_count": 0,
      "outputs": []
    },
    {
      "cell_type": "markdown",
      "metadata": {
        "colab_type": "text",
        "id": "wjMjdN7Sx4TG"
      },
      "source": [
        "#### Problem 3. Finding the percentage\n",
        "\n",
        "**Task**\n",
        "\n",
        "You have a record of **N** students. Each record contains the student's name, and their percent marks in Maths, Physics and Chemistry. The marks can be floating values. The user enters some integer **N** followed by the names and marks for **N** students. You are required to save the record in a dictionary data type. The user then enters a student's name. Output the average percentage marks obtained by that student, correct to two decimal places.\n",
        "\n",
        "**Input Format**\n",
        "\n",
        "The first line contains the integer **N**, the number of students. The next **N** lines contains the name and marks obtained by that student separated by a space. The final line contains the name of a particular student previously listed.\n",
        "\n",
        "**Constraints**\n",
        "\n",
        "**2 <= N <= 10**\n",
        "\n",
        "**0 <= Marks <= 100**\n",
        "\n",
        "\n",
        "**Output Format**\n",
        "\n",
        "Print one line: The average of the marks obtained by the particular student correct to 2 decimal places.\n",
        "\n",
        "**Sample Input 0**\n",
        "\n",
        "3\n",
        "\n",
        "Krishna 67 68 69\n",
        "\n",
        "Arjun 70 98 63\n",
        "\n",
        "Malika 52 56 60\n",
        "\n",
        "Malika\n",
        "\n",
        "\n",
        "**Sample Output 0**\n",
        "\n",
        "56.00"
      ]
    },
    {
      "cell_type": "code",
      "metadata": {
        "colab_type": "code",
        "id": "-13cSZ10y41o",
        "colab": {}
      },
      "source": [
        "if __name__ == '__main__':\n",
        "    n = int(input())\n",
        "    student_marks = {}\n",
        "    for _ in range(n):\n",
        "        name, *line = input().split()\n",
        "        scores = list(map(float, line))\n",
        "        student_marks[name] = scores\n",
        "    query_name = input()\n",
        "\n",
        "    student = student_marks[query_name];\n",
        "\n",
        "    score_average = sum(student) / len(student)\n",
        "    \n",
        "    print(\"{0:.2f}\".format(round(score_average ,2)))\n"
      ],
      "execution_count": 0,
      "outputs": []
    },
    {
      "cell_type": "markdown",
      "metadata": {
        "colab_type": "text",
        "id": "hNAc21Ww8hz-"
      },
      "source": [
        "#### Problem 4. Find a string\n",
        "\n",
        "\n",
        "**Task**\n",
        "\n",
        "In this challenge, the user enters a string and a substring. You have to print the number of times that the substring occurs in the given string. String traversal will take place from left to right, not from right to left.\n",
        "\n",
        "**NOTE**: String letters are case-sensitive.\n",
        "\n",
        "**Input Format**\n",
        "\n",
        "The first line of input contains the original string. The next line contains the substring.\n",
        "\n",
        "**Constraints**\n",
        "\n",
        "**1 <= len(string) <= 200*\n",
        "\n",
        "\n",
        "**Output Format**\n",
        "\n",
        "Output the integer number indicating the total number of occurrences of the substring in the original string.\n",
        "\n",
        "**Sample Input 0**\n",
        "\n",
        "ABCDCDC\n",
        "\n",
        "CDC\n",
        "\n",
        "\n",
        "**Sample Output 0**\n",
        "\n",
        "2"
      ]
    },
    {
      "cell_type": "code",
      "metadata": {
        "colab_type": "code",
        "id": "r0-FCnfO9FDR",
        "colab": {}
      },
      "source": [
        "def count_substring(string, sub_string):\n",
        "    countt = 0;\n",
        "    lst_index = set()\n",
        "    for i in range(0, len(string), 1):\n",
        "        index = string.find(sub_string, i)\n",
        "        if(index != -1): \n",
        "          countt += 1\n",
        "          lst_index.add(index)\n",
        "    return len(lst_index)"
      ],
      "execution_count": 0,
      "outputs": []
    },
    {
      "cell_type": "markdown",
      "metadata": {
        "colab_type": "text",
        "id": "CsiEqbc39jj6"
      },
      "source": [
        "#### Problem 5. Nested Lists\n",
        "\n",
        "\n",
        "**Task**\n",
        "\n",
        "Given the names and grades for each student in a Physics class of **N** students, store them in a nested list and print the name(s) of any student(s) having the second lowest grade.\n",
        "\n",
        "\n",
        "**NOTE**: If there are multiple students with the same grade, order their names alphabetically and print each name on a new line.\n",
        "\n",
        "**Input Format**\n",
        "\n",
        "The first line contains an integer, **N**, the number of students.\n",
        "The **2N** subsequent lines describe each student over **2** lines; the first line contains a student's name, and the second line contains their grade.\n",
        "\n",
        "**Constraints**\n",
        "\n",
        "**2 <= N <= 5**\n",
        "\n",
        "There will always be one or more students having the second lowest grade.\n",
        "\n",
        "\n",
        "**Output Format**\n",
        "\n",
        "Print the name(s) of any student(s) having the second lowest grade in Physics; if there are multiple students, order their names alphabetically and print each one on a new line.\n",
        "\n",
        "\n",
        "**Sample Input 0**\n",
        "\n",
        "5\n",
        "\n",
        "Harry\n",
        "\n",
        "37.21\n",
        "\n",
        "Berry\n",
        "\n",
        "37.21\n",
        "\n",
        "Tina\n",
        "\n",
        "37.2\n",
        "\n",
        "Akriti\n",
        "\n",
        "41\n",
        "\n",
        "Harsh\n",
        "\n",
        "39\n",
        "\n",
        "\n",
        "**Sample Output 0**\n",
        "\n",
        "Berry\n",
        "\n",
        "Harry\n"
      ]
    },
    {
      "cell_type": "code",
      "metadata": {
        "colab_type": "code",
        "id": "v0Hnee63_QCT",
        "colab": {}
      },
      "source": [
        "if __name__ == '__main__':\n",
        "    lst = []\n",
        "    for _ in range(int(input())):\n",
        "        name = input()\n",
        "        score = float(input())\n",
        "        lst.append([name, score])\n",
        "\n",
        "    lst.sort(key=lambda e: e[1])\n",
        "    val = -1;\n",
        "    lstName = []\n",
        "    for i in range(1, len(lst)):\n",
        "        if val == -1 and lst[i][1] != lst[0][1]: val = lst[i][1]\n",
        "        if(val != -1 and lst[i][1] == val): lstName.append(lst[i][0])\n",
        "        elif(val != -1 and lst[i][1] != val): break\n",
        "\n",
        "    lstName.sort()\n",
        "    for i in lstName: print(i)"
      ],
      "execution_count": 0,
      "outputs": []
    }
  ]
}